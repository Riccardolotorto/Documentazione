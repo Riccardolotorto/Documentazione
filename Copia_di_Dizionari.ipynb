{
  "nbformat": 4,
  "nbformat_minor": 0,
  "metadata": {
    "colab": {
      "provenance": [],
      "collapsed_sections": [
        "YXIGwkL_N-w2",
        "6Y4p9e0sWixs",
        "ipLNR0X5Xfv6",
        "9lej0yFSn9Jq"
      ],
      "include_colab_link": true
    },
    "kernelspec": {
      "name": "python3",
      "display_name": "Python 3"
    },
    "language_info": {
      "name": "python"
    }
  },
  "cells": [
    {
      "cell_type": "markdown",
      "metadata": {
        "id": "view-in-github",
        "colab_type": "text"
      },
      "source": [
        "<a href=\"https://colab.research.google.com/github/Riccardolotorto/Documentazione/blob/main/Copia_di_Dizionari.ipynb\" target=\"_parent\"><img src=\"https://colab.research.google.com/assets/colab-badge.svg\" alt=\"Open In Colab\"/></a>"
      ]
    },
    {
      "cell_type": "markdown",
      "source": [
        "#Dizionari\n",
        "da https://www.w3schools.com/python/python_dictionaries.asp"
      ],
      "metadata": {
        "id": "YXIGwkL_N-w2"
      }
    },
    {
      "cell_type": "markdown",
      "source": [
        "I Dizionari sono collezioni ordinate, utilizzate per registrare serie di coppie di valori, formate da una chiave (Key) e un valore (Value)."
      ],
      "metadata": {
        "id": "r8THPYSqOSfg"
      }
    },
    {
      "cell_type": "code",
      "execution_count": null,
      "metadata": {
        "colab": {
          "base_uri": "https://localhost:8080/"
        },
        "id": "nDDWFMCGIJO0",
        "outputId": "a78099c9-cb6d-43c0-89c0-fceab970c527"
      },
      "outputs": [
        {
          "output_type": "stream",
          "name": "stdout",
          "text": [
            "{'genere': 'maschio', 'età': 15, 'altezza': 200}\n"
          ]
        }
      ],
      "source": [
        "#Esempio\n",
        "carlo = {\n",
        "    \"genere\":\"maschio\",\n",
        "    \"età\":15,\n",
        "    \"altezza\":200\n",
        "}\n",
        "print(carlo)"
      ]
    },
    {
      "cell_type": "markdown",
      "source": [
        "Gli elementi all'interno dei dizionari sono ordinati, modificabili e non consentono duplicati."
      ],
      "metadata": {
        "id": "bW9ZbTJgP14h"
      }
    },
    {
      "cell_type": "code",
      "source": [
        "#Esempio\n",
        "carlo = {\n",
        "    \"genere\":\"femmina\",\n",
        "    \"genere\":\"maschio\",\n",
        "    \"età\":15,\n",
        "    \"altezza\":200\n",
        "}\n",
        "\n",
        "#La chiave \"genere\" ripetendosi 2 volte, verrà presa in considerazione solo l'ultima.\n",
        "\n",
        "print(carlo)"
      ],
      "metadata": {
        "colab": {
          "base_uri": "https://localhost:8080/"
        },
        "id": "N6yqzoZcQAVL",
        "outputId": "a6f453e3-937c-47c6-8438-a4d4efd328a9"
      },
      "execution_count": null,
      "outputs": [
        {
          "output_type": "stream",
          "name": "stdout",
          "text": [
            "{'genere': 'maschio', 'età': 15, 'altezza': 200}\n"
          ]
        }
      ]
    },
    {
      "cell_type": "code",
      "source": [
        "#Esempio\n",
        "carlo = {\n",
        "    \"genere\":\"maschio\",\n",
        "    \"età\":15,\n",
        "    \"altezza\":200\n",
        "}\n",
        "\n",
        "#Trattandosi di una collezione modificabile, possono essere aggiunti nuovi elementi\n",
        "carlo.update({\"cognome\":\"Borgheresi\"})\n",
        "carlo[\"capelli\"] = \"neri\"\n",
        "\n",
        "#Possono essere modificati\n",
        "carlo[\"genere\"] = \"femmina\"\n",
        "\n",
        "#Possono essere rimossi\n",
        "carlo.pop(\"età\") \n",
        "\n",
        "print(carlo)"
      ],
      "metadata": {
        "colab": {
          "base_uri": "https://localhost:8080/"
        },
        "id": "-1w-WihFSl3a",
        "outputId": "7c6404ce-1c20-46f1-b5ea-377eafe99bc3"
      },
      "execution_count": null,
      "outputs": [
        {
          "output_type": "stream",
          "name": "stdout",
          "text": [
            "{'genere': 'femmina', 'altezza': 200, 'cognome': 'Borgheresi', 'capelli': 'neri'}\n"
          ]
        }
      ]
    },
    {
      "cell_type": "markdown",
      "source": [
        "Dizionari Nidificati - Nested Dictionaries"
      ],
      "metadata": {
        "id": "pevffdq1WcRY"
      }
    },
    {
      "cell_type": "code",
      "source": [
        "#Un dizionario può contenere altri dizionari\n",
        "\n",
        "famiglia = {\n",
        "    \"figlio0\" : {\n",
        "        \"nome\" : \"carlo\",\n",
        "        \"età\" : 15,\n",
        "        \"altezza\":200\n",
        "    },\n",
        "    \"figlio1\" : {\n",
        "            \"nome\" : \"gianni\",\n",
        "            \"età\" : 12,\n",
        "            \"altezza\":150\n",
        "        },\n",
        "}\n",
        "\n",
        "print(famiglia)\n",
        "\n",
        "#Puoi anche creare dei Dizionari formati da altri già esistenti\n",
        "\n",
        "figlio0 = {\n",
        "    \"nome\" : \"carlo\",\n",
        "    \"età\":15,\n",
        "    \"altezza\":200\n",
        "}\n",
        "\n",
        "figlio1 = {\n",
        "    \"nome\" : \"gianni\",\n",
        "    \"età\":12,\n",
        "    \"altezza\":150\n",
        "}\n",
        "\n",
        "famiglia = {\n",
        "    \"figlio0\" : figlio0,\n",
        "    \"figlio1\" : figlio1\n",
        "}\n",
        "\n",
        "\n",
        "print(famiglia)"
      ],
      "metadata": {
        "colab": {
          "base_uri": "https://localhost:8080/"
        },
        "id": "64vppF3PpRAn",
        "outputId": "2df7bcf9-aa80-40da-d860-eadd11b65cfc"
      },
      "execution_count": null,
      "outputs": [
        {
          "output_type": "stream",
          "name": "stdout",
          "text": [
            "{'figlio0': {'nome': 'carlo', 'età': 15, 'altezza': 200}, 'figlio1': {'nome': 'gianni', 'età': 12, 'altezza': 150}}\n",
            "{'figlio0': {'nome': 'carlo', 'età': 15, 'altezza': 200}, 'figlio1': {'nome': 'gianni', 'età': 12, 'altezza': 150}}\n"
          ]
        }
      ]
    },
    {
      "cell_type": "markdown",
      "source": [
        "#Loop con i Dizionari\n",
        "da https://www.w3schools.com/python/python_dictionaries_loop.asp"
      ],
      "metadata": {
        "id": "6Y4p9e0sWixs"
      }
    },
    {
      "cell_type": "code",
      "source": [
        "#Ecco un elenco di for loops per visualizzare in un altro modo i \n",
        "\n",
        "carlo = {\n",
        "    \"genere\":\"maschio\",\n",
        "    \"età\":15,\n",
        "    \"altezza\":200\n",
        "}\n",
        "\n",
        "#Per visualizzare tutte le Chiavi\n",
        "\n",
        "for x in carlo:\n",
        "  print(x)\n",
        "\n",
        "#Oppure\n",
        "\n",
        "for x in carlo.keys():\n",
        "  print(x)"
      ],
      "metadata": {
        "colab": {
          "base_uri": "https://localhost:8080/"
        },
        "id": "4E0iA6J4Wgt8",
        "outputId": "2dc2fea7-fc3c-4711-987b-d47108289e80"
      },
      "execution_count": null,
      "outputs": [
        {
          "output_type": "stream",
          "name": "stdout",
          "text": [
            "genere\n",
            "età\n",
            "altezza\n",
            "genere\n",
            "età\n",
            "altezza\n"
          ]
        }
      ]
    },
    {
      "cell_type": "code",
      "source": [
        "#Per visualizzare tutti i Valori\n",
        "\n",
        "for x in carlo:\n",
        "  print(carlo[x])\n",
        "\n",
        "#Oppure\n",
        "\n",
        "for x in carlo.values():\n",
        "  print(x)"
      ],
      "metadata": {
        "colab": {
          "base_uri": "https://localhost:8080/"
        },
        "id": "uAyG4YdZYCdn",
        "outputId": "8e8d31ab-5538-4150-c476-80a9807663a6"
      },
      "execution_count": null,
      "outputs": [
        {
          "output_type": "stream",
          "name": "stdout",
          "text": [
            "maschio\n",
            "15\n",
            "200\n",
            "maschio\n",
            "15\n",
            "200\n"
          ]
        }
      ]
    },
    {
      "cell_type": "code",
      "source": [
        "#Per visualizzare tutte le coppie Chiave-Valore\n",
        "\n",
        "for x, y in carlo.items():\n",
        "  print(x, y)"
      ],
      "metadata": {
        "colab": {
          "base_uri": "https://localhost:8080/"
        },
        "id": "5rhN_aaQYDxb",
        "outputId": "815425b2-8ce6-45c7-ffdd-bb80d8e50d54"
      },
      "execution_count": null,
      "outputs": [
        {
          "output_type": "stream",
          "name": "stdout",
          "text": [
            "genere maschio\n",
            "età 15\n",
            "altezza 200\n"
          ]
        }
      ]
    },
    {
      "cell_type": "markdown",
      "source": [
        "#Metodi\n",
        "da https://www.w3schools.com/python/python_dictionaries_methods.asp"
      ],
      "metadata": {
        "id": "ipLNR0X5Xfv6"
      }
    },
    {
      "cell_type": "markdown",
      "source": [
        "clear()"
      ],
      "metadata": {
        "id": "RZH9o_PkneKF"
      }
    },
    {
      "cell_type": "code",
      "source": [
        "#Rimuove tutti gli elementi all'interno di un Dizionario\n",
        "\n",
        "LuigiXVI = {\n",
        "    \"genere\":\"maschio\",\n",
        "    \"età\":38\n",
        "}\n",
        "\n",
        "LuigiXVI.clear()\n",
        "print(LuigiXVI)"
      ],
      "metadata": {
        "colab": {
          "base_uri": "https://localhost:8080/"
        },
        "id": "geOu2L5XnduZ",
        "outputId": "56ed1703-1556-4222-d56e-61eee0d88498"
      },
      "execution_count": null,
      "outputs": [
        {
          "output_type": "stream",
          "name": "stdout",
          "text": [
            "{}\n"
          ]
        }
      ]
    },
    {
      "cell_type": "markdown",
      "source": [
        "copy()"
      ],
      "metadata": {
        "id": "ZjjYATHYpE-1"
      }
    },
    {
      "cell_type": "code",
      "source": [
        "#Copia gli elementi di un Dizionario in un altro\n",
        "\n",
        "fifa22 = {\n",
        "    \"sviluppo\":\"EA Sports\",\n",
        "    \"genere\":\"Calcio\",\n",
        "    \"prezzo\":\"70€\" \n",
        "}\n",
        "\n",
        "fifa23 = fifa22.copy()\n",
        "print(fifa23)"
      ],
      "metadata": {
        "id": "m28vqGVyXkkh",
        "colab": {
          "base_uri": "https://localhost:8080/"
        },
        "outputId": "7e58461b-d28b-4b8f-809c-f9e7fc445e7f"
      },
      "execution_count": null,
      "outputs": [
        {
          "output_type": "stream",
          "name": "stdout",
          "text": [
            "{'sviluppo': 'EA Sports', 'genere': 'Calcio', 'prezzo': '70€'}\n"
          ]
        }
      ]
    },
    {
      "cell_type": "markdown",
      "source": [
        "fromkeys()"
      ],
      "metadata": {
        "id": "Usj_IUoDpS4x"
      }
    },
    {
      "cell_type": "code",
      "source": [
        "#Assegna ad ogni chiave un valore uguale\n",
        "#Le chiavi sono prese da una tupla e il valore da una seconda varibile\n",
        "\n",
        "key = (\"autostima\", \"motivazione\", \"felicità\")\n",
        "value = 0\n",
        "\n",
        "vita = dict.fromkeys(key, value)\n",
        "print(vita)\n"
      ],
      "metadata": {
        "colab": {
          "base_uri": "https://localhost:8080/"
        },
        "id": "cXRMnpbdpSzE",
        "outputId": "7fd26332-72e1-4cea-81fd-88182cefc257"
      },
      "execution_count": null,
      "outputs": [
        {
          "output_type": "stream",
          "name": "stdout",
          "text": [
            "{'autostima': 0, 'motivazione': 0, 'felicità': 0}\n"
          ]
        }
      ]
    },
    {
      "cell_type": "markdown",
      "source": [
        "get()"
      ],
      "metadata": {
        "id": "CqZOSAEPpSs9"
      }
    },
    {
      "cell_type": "code",
      "source": [
        "#Prende il valore associato alla chiave specificata\n",
        "\n",
        "carlo = {\n",
        "    \"genere\":\"maschio\",\n",
        "    \"età\":15,\n",
        "    \"altezza\":200\n",
        "}\n",
        "\n",
        "centimetri = carlo.get('altezza')\n",
        "print(centimetri)\n",
        "\n",
        "#Prende anche il valore di un elemento che non è presente nella lista\n",
        "\n",
        "fidanzata = carlo.get('fidanzata', False)\n",
        "print(fidanzata)\n"
      ],
      "metadata": {
        "colab": {
          "base_uri": "https://localhost:8080/"
        },
        "id": "Dapxx67apSnI",
        "outputId": "658e334d-cb21-40ac-8bba-b7bd98154fd0"
      },
      "execution_count": null,
      "outputs": [
        {
          "output_type": "stream",
          "name": "stdout",
          "text": [
            "200\n",
            "False\n"
          ]
        }
      ]
    },
    {
      "cell_type": "markdown",
      "source": [
        "items()"
      ],
      "metadata": {
        "id": "fxLbRNnypShc"
      }
    },
    {
      "cell_type": "code",
      "source": [
        "#Restituisce un view object che contiene come lista le coppie di chiave-valore in un Dizionario\n",
        "\n",
        "carlo = {\n",
        "    \"genere\":\"maschio\",\n",
        "    \"età\":15,\n",
        "    \"altezza\":200\n",
        "}\n",
        "\n",
        "studente1 = carlo.items()\n",
        "print(studente1)\n"
      ],
      "metadata": {
        "colab": {
          "base_uri": "https://localhost:8080/"
        },
        "id": "Y6zYBRXMpSb7",
        "outputId": "2d28a468-6aa7-4f26-bdfb-682e6f8c4e99"
      },
      "execution_count": null,
      "outputs": [
        {
          "output_type": "stream",
          "name": "stdout",
          "text": [
            "dict_items([('genere', 'maschio'), ('età', 15), ('altezza', 200)])\n"
          ]
        }
      ]
    },
    {
      "cell_type": "code",
      "source": [
        "#Quando un elemento all'interno del Dizionario cambia valore, cambia anche nella nuova variabile\n",
        "\n",
        "carlo = {\n",
        "    \"genere\":\"maschio\",\n",
        "    \"età\":15,\n",
        "    \"altezza\":200\n",
        "}\n",
        "\n",
        "studente1 = carlo.items()\n",
        "print(studente1)\n",
        "\n",
        "carlo['età'] = 16\n",
        "print(studente1)"
      ],
      "metadata": {
        "colab": {
          "base_uri": "https://localhost:8080/"
        },
        "id": "JrvLfiWwxk9C",
        "outputId": "e351b851-cdbc-4a36-80a2-93f3c53c9ce3"
      },
      "execution_count": null,
      "outputs": [
        {
          "output_type": "stream",
          "name": "stdout",
          "text": [
            "dict_items([('genere', 'maschio'), ('età', 15), ('altezza', 200)])\n",
            "dict_items([('genere', 'maschio'), ('età', 16), ('altezza', 200)])\n"
          ]
        }
      ]
    },
    {
      "cell_type": "markdown",
      "source": [
        "keys()"
      ],
      "metadata": {
        "id": "JTHihs1xpSUd"
      }
    },
    {
      "cell_type": "code",
      "source": [
        "#Restituisce un view object che contiene come lista le chiavi in un Dizionario\n",
        "\n",
        "carlo = {\n",
        "    \"genere\":\"maschio\",\n",
        "    \"età\":15,\n",
        "    \"altezza\":200\n",
        "}\n",
        "\n",
        "umano = carlo.keys()\n",
        "print(umano)\n",
        "\n",
        "#Riflette i cambiamenti\n",
        "\n",
        "carlo['capelli'] = 'neri'\n",
        "print(umano)"
      ],
      "metadata": {
        "colab": {
          "base_uri": "https://localhost:8080/"
        },
        "id": "CD9N1TzwpSOx",
        "outputId": "36579637-5321-4016-c928-1f62dc698e92"
      },
      "execution_count": null,
      "outputs": [
        {
          "output_type": "stream",
          "name": "stdout",
          "text": [
            "dict_keys(['genere', 'età', 'altezza'])\n",
            "dict_keys(['genere', 'età', 'altezza', 'capelli'])\n"
          ]
        }
      ]
    },
    {
      "cell_type": "markdown",
      "source": [
        "values()"
      ],
      "metadata": {
        "id": "NLXngcuqAH0i"
      }
    },
    {
      "cell_type": "code",
      "source": [
        "#Restituisce un view object che contiene come lista i valori in un Dizionario\n",
        "\n",
        "carlo = {\n",
        "    \"genere\":\"maschio\",\n",
        "    \"età\":15,\n",
        "    \"altezza\":200\n",
        "}\n",
        "\n",
        "decontensto = carlo.values()\n",
        "print(decontensto)\n"
      ],
      "metadata": {
        "colab": {
          "base_uri": "https://localhost:8080/"
        },
        "id": "gp9E3QzgAIE7",
        "outputId": "44d48bdc-8d82-4c3e-86f3-a8dae5a8096f"
      },
      "execution_count": null,
      "outputs": [
        {
          "output_type": "stream",
          "name": "stdout",
          "text": [
            "dict_values(['maschio', 15, 200])\n"
          ]
        }
      ]
    },
    {
      "cell_type": "markdown",
      "source": [
        "pop()"
      ],
      "metadata": {
        "id": "0x2lS3f7pSJQ"
      }
    },
    {
      "cell_type": "code",
      "source": [
        "#Rimuove una chiave e il suo valore dal Dizionario\n",
        "\n",
        "carlo = {\n",
        "    \"genere\":\"maschio\",\n",
        "    \"età\":15,\n",
        "    \"altezza\":200\n",
        "}\n",
        "\n",
        "carlo.pop('genere')\n",
        "print(carlo)"
      ],
      "metadata": {
        "colab": {
          "base_uri": "https://localhost:8080/"
        },
        "id": "5fErBMT2pSCl",
        "outputId": "f1b4cc2f-43f2-4cf2-a289-45ac9732a3a8"
      },
      "execution_count": null,
      "outputs": [
        {
          "output_type": "stream",
          "name": "stdout",
          "text": [
            "{'età': 15, 'altezza': 200}\n"
          ]
        }
      ]
    },
    {
      "cell_type": "markdown",
      "source": [
        "popitem()"
      ],
      "metadata": {
        "id": "j9G0cSVUpR7H"
      }
    },
    {
      "cell_type": "code",
      "source": [
        "#Rimuove l'ultimo elemento aggiunto e restituisce un view object contenente esso \n",
        "\n",
        "carlo = {\n",
        "    \"genere\":\"maschio\",\n",
        "    \"età\":15,\n",
        "    \"altezza\":200\n",
        "}\n",
        "\n",
        "carlo.popitem()\n",
        "print(carlo)\n",
        "\n",
        "cestino = carlo.popitem()\n",
        "print(cestino)"
      ],
      "metadata": {
        "colab": {
          "base_uri": "https://localhost:8080/"
        },
        "id": "82bFxjs2pRvu",
        "outputId": "9790e089-b59d-4abe-ffed-5c64a0163360"
      },
      "execution_count": null,
      "outputs": [
        {
          "output_type": "stream",
          "name": "stdout",
          "text": [
            "{'genere': 'maschio', 'età': 15}\n",
            "('età', 15)\n"
          ]
        }
      ]
    },
    {
      "cell_type": "markdown",
      "source": [
        "setdefault()"
      ],
      "metadata": {
        "id": "xYiXYi4YpOpo"
      }
    },
    {
      "cell_type": "code",
      "source": [
        "#Restituisce il valore associato alla chiave specificata\n",
        "\n",
        "carlo = {\n",
        "    \"genere\":\"maschio\",\n",
        "    \"età\":15,\n",
        "    \"altezza\":200\n",
        "}\n",
        "\n",
        "vecchiaia = carlo.setdefault('età')\n",
        "print(vecchiaia)\n",
        "\n",
        "vecchiaia = carlo.setdefault('capelli')\n",
        "print(vecchiaia)"
      ],
      "metadata": {
        "colab": {
          "base_uri": "https://localhost:8080/"
        },
        "id": "V5K1qn0lpP0U",
        "outputId": "6e5f3639-6963-47b9-e93d-079b56d8375e"
      },
      "execution_count": null,
      "outputs": [
        {
          "output_type": "stream",
          "name": "stdout",
          "text": [
            "15\n",
            "None\n"
          ]
        }
      ]
    },
    {
      "cell_type": "markdown",
      "source": [
        "#Esercizi"
      ],
      "metadata": {
        "id": "9lej0yFSn9Jq"
      }
    },
    {
      "cell_type": "markdown",
      "source": [
        "1. Crea un dizionario che contenga il tuo nome, cognome ed età "
      ],
      "metadata": {
        "id": "PApSI38XoAVv"
      }
    },
    {
      "cell_type": "code",
      "source": [
        "ilMioDizionario = {\n",
        "    \"nome\":\"riccardo\",\n",
        "    \"cognome\":\"lotorto\",\n",
        "    \"età\":15,\n",
        "}\n",
        "print(ilMioDizionario)"
      ],
      "metadata": {
        "id": "QqMTHnZKn_Vk",
        "colab": {
          "base_uri": "https://localhost:8080/"
        },
        "outputId": "6266acdc-e85f-459f-b9d6-5c5994c6e870"
      },
      "execution_count": null,
      "outputs": [
        {
          "output_type": "stream",
          "name": "stdout",
          "text": [
            "{'nome': 'riccardo', 'cognome': 'lotorto', 'età': 15}\n"
          ]
        }
      ]
    },
    {
      "cell_type": "markdown",
      "source": [
        "2. Aggiungi al dizionario la tua altezza"
      ],
      "metadata": {
        "id": "S7Ibgr1GoXLf"
      }
    },
    {
      "cell_type": "code",
      "source": [
        "ilMioDizionario[\"altezza\"] = 1.71\n",
        "print(ilMioDizionario)"
      ],
      "metadata": {
        "id": "bhKQszWGp1U_",
        "colab": {
          "base_uri": "https://localhost:8080/"
        },
        "outputId": "ba5161c1-90d5-409a-df2a-4808e58a5023"
      },
      "execution_count": null,
      "outputs": [
        {
          "output_type": "stream",
          "name": "stdout",
          "text": [
            "{'nome': 'riccardo', 'cognome': 'lotorto', 'età': 15, 'altezza': 1.71}\n"
          ]
        }
      ]
    },
    {
      "cell_type": "markdown",
      "source": [
        "3. Cambia la tua altezza con quella di Goku (175 cm)"
      ],
      "metadata": {
        "id": "-RXBHj9np1h5"
      }
    },
    {
      "cell_type": "code",
      "source": [
        "ilMioDizionario[\"altezza\"] = 1.75\n",
        "print(ilMioDizionario)"
      ],
      "metadata": {
        "id": "_TxY5IyFqKMs",
        "colab": {
          "base_uri": "https://localhost:8080/"
        },
        "outputId": "46ae68e3-fbce-412f-c23c-caf32afd8c1a"
      },
      "execution_count": null,
      "outputs": [
        {
          "output_type": "stream",
          "name": "stdout",
          "text": [
            "{'nome': 'riccardo', 'cognome': 'lotorto', 'età': 15, 'altezza': 1.75}\n"
          ]
        }
      ]
    },
    {
      "cell_type": "markdown",
      "source": [
        "4. Visualizza il numero di chiavi"
      ],
      "metadata": {
        "id": "iGniB7HzqKZ6"
      }
    },
    {
      "cell_type": "code",
      "source": [
        "countChiavi = 0\n",
        "for x in ilMioDizionario.keys():\n",
        "  countChiavi += 1\n",
        "print(countChiavi)"
      ],
      "metadata": {
        "id": "XZXX713PqrTU",
        "colab": {
          "base_uri": "https://localhost:8080/"
        },
        "outputId": "b882433d-6035-4f8b-cfcd-a2956e904530"
      },
      "execution_count": null,
      "outputs": [
        {
          "output_type": "stream",
          "name": "stdout",
          "text": [
            "4\n"
          ]
        }
      ]
    },
    {
      "cell_type": "markdown",
      "source": [
        "5. Visualizza la seconda chiave"
      ],
      "metadata": {
        "id": "q_0zk6mrqt7-"
      }
    },
    {
      "cell_type": "code",
      "source": [
        "print(ilMioDizionario[\"cognome\"])"
      ],
      "metadata": {
        "id": "HgYlBic4qsxE",
        "colab": {
          "base_uri": "https://localhost:8080/"
        },
        "outputId": "7b456e98-13ac-4c26-86d4-4441107d3fbd"
      },
      "execution_count": null,
      "outputs": [
        {
          "output_type": "stream",
          "name": "stdout",
          "text": [
            "lotorto\n"
          ]
        }
      ]
    },
    {
      "cell_type": "markdown",
      "source": [
        "6. Crea un nuovo dizionario uguale al primo"
      ],
      "metadata": {
        "id": "dIauu1huqsat"
      }
    },
    {
      "cell_type": "code",
      "source": [
        "ilMioDizionario2 = {\n",
        "    \"nome\":\"riccardo\",\n",
        "    \"cognome\":\"lotorto\",\n",
        "    \"età\":15,\n",
        "}"
      ],
      "metadata": {
        "id": "m0gS8qXIquaQ"
      },
      "execution_count": null,
      "outputs": []
    },
    {
      "cell_type": "markdown",
      "source": [
        "7. Svuota il nuovo dizionario e visualizza il primo"
      ],
      "metadata": {
        "id": "WYoAw7Morar-"
      }
    },
    {
      "cell_type": "code",
      "source": [
        "ilMioDizionario2.clear()\n",
        "print(ilMioDizionario)"
      ],
      "metadata": {
        "id": "7WT4q624raW9",
        "colab": {
          "base_uri": "https://localhost:8080/"
        },
        "outputId": "a689c969-abce-4148-ebc1-720da0da841c"
      },
      "execution_count": null,
      "outputs": [
        {
          "output_type": "stream",
          "name": "stdout",
          "text": [
            "{'nome': 'riccardo', 'cognome': 'lotorto', 'età': 15, 'altezza': 1.75}\n"
          ]
        }
      ]
    },
    {
      "cell_type": "markdown",
      "source": [
        "8. Nel secondo dizionario inserisci le chiavi \"batte\", \"forte\", \"sempre\" e assegna ad ognuna il valore \"comodino\"."
      ],
      "metadata": {
        "id": "XZY5GJA-rilG"
      }
    },
    {
      "cell_type": "code",
      "source": [
        "key = (\"batte\", \"forte\", \"sempre\")\n",
        "value = \"comodino\"\n",
        "ilMioDizionario2 = dict.fromkeys(key, value)\n",
        "print(ilMioDizionario2)"
      ],
      "metadata": {
        "id": "R8wJB1aeri8j",
        "colab": {
          "base_uri": "https://localhost:8080/"
        },
        "outputId": "a1e07e03-4deb-4849-bcdc-a447dc62993d"
      },
      "execution_count": null,
      "outputs": [
        {
          "output_type": "stream",
          "name": "stdout",
          "text": [
            "{'batte': 'comodino', 'forte': 'comodino', 'sempre': 'comodino'}\n"
          ]
        }
      ]
    },
    {
      "cell_type": "markdown",
      "source": [
        "9. Visualizza con un ciclo tutti gli elementi presenti nel secondo dizionario"
      ],
      "metadata": {
        "id": "MdEW9kpZss6B"
      }
    },
    {
      "cell_type": "code",
      "source": [
        "for chiave, valore in ilMioDizionario.items():\n",
        "  print(chiave, valore)"
      ],
      "metadata": {
        "id": "RZE6VL--tEXw",
        "colab": {
          "base_uri": "https://localhost:8080/"
        },
        "outputId": "3f0e116b-fca2-4338-f4bb-9cd4ef1b8cf1"
      },
      "execution_count": null,
      "outputs": [
        {
          "output_type": "stream",
          "name": "stdout",
          "text": [
            "nome riccardo\n",
            "cognome lotorto\n",
            "età 15\n",
            "altezza 1.75\n"
          ]
        }
      ]
    },
    {
      "cell_type": "markdown",
      "source": [
        "10. Rimuovi il valore della seconda chiave del secondo dizionario"
      ],
      "metadata": {
        "id": "QYRBcxZhtErM"
      }
    },
    {
      "cell_type": "code",
      "source": [],
      "metadata": {
        "id": "6ALtbmqRudyG"
      },
      "execution_count": null,
      "outputs": []
    },
    {
      "cell_type": "markdown",
      "source": [
        "11. Crea un dizionario chiamato Dizionarione che contenga sia il primo che il secondo"
      ],
      "metadata": {
        "id": "VRmozyp2upEl"
      }
    },
    {
      "cell_type": "code",
      "source": [
        "Dizionarione = {\n",
        "    \"primoDizionario\":ilMioDizionario,\n",
        "    \"secondoDizionario\":ilMioDizionario2\n",
        "}\n",
        "print(Dizionarione)"
      ],
      "metadata": {
        "id": "TOc3AwPbuonN",
        "colab": {
          "base_uri": "https://localhost:8080/"
        },
        "outputId": "de5b480a-8f71-4a46-e5af-6aaa5a6be351"
      },
      "execution_count": null,
      "outputs": [
        {
          "output_type": "stream",
          "name": "stdout",
          "text": [
            "{'primoDizionario': {'nome': 'riccardo', 'cognome': 'lotorto', 'età': 15, 'altezza': 1.75}, 'secondoDizionario': {'batte': 'comodino', 'forte': 'comodino', 'sempre': 'comodino'}}\n"
          ]
        }
      ]
    },
    {
      "cell_type": "markdown",
      "source": [
        "12. Aggiungi a Dizionarione un terzo dizionario che contenga 3 chiavi e 3 valori a tua scelta"
      ],
      "metadata": {
        "id": "wZVJ4FHywgRz"
      }
    },
    {
      "cell_type": "code",
      "source": [
        "ilMioDizionario3 = {\n",
        "    \"anno\":2022,\n",
        "    \"stagione\":\"autunno\",\n",
        "    \"tempo\":\"soleggiato\"\n",
        "}\n",
        "Dizionarione = {\n",
        "    \"primoDizionario\":ilMioDizionario,\n",
        "    \"secondoDizionario\":ilMioDizionario2,\n",
        "    \"terzoDizionario\":ilMioDizionario3\n",
        "}\n",
        "print(Dizionarione)"
      ],
      "metadata": {
        "id": "3yKMd-6qwgg6",
        "colab": {
          "base_uri": "https://localhost:8080/"
        },
        "outputId": "2d16f0f7-b000-4e1e-fe90-98beec0d134c"
      },
      "execution_count": null,
      "outputs": [
        {
          "output_type": "stream",
          "name": "stdout",
          "text": [
            "{'primoDizionario': {'nome': 'riccardo', 'cognome': 'lotorto', 'età': 15, 'altezza': 1.75}, 'secondoDizionario': {'batte': 'comodino', 'forte': 'comodino', 'sempre': 'comodino'}, 'terzoDizionario': {'anno': 2022, 'stagione': 'autunno', 'tempo': 'soleggiato'}}\n"
          ]
        }
      ]
    },
    {
      "cell_type": "markdown",
      "source": [
        "13. Rimuovi il terzo dizionario da Dizionarione e visualizzalo"
      ],
      "metadata": {
        "id": "SR6Qslrou3Fj"
      }
    },
    {
      "cell_type": "code",
      "source": [
        "ilMioDizionario3.clear()\n",
        "Dizionarione = {\n",
        "    \"primoDizionario\":ilMioDizionario,\n",
        "    \"secondoDizionario\":ilMioDizionario2,\n",
        "}\n",
        "print(Dizionarione)"
      ],
      "metadata": {
        "id": "AJKe5vX9wDcc",
        "colab": {
          "base_uri": "https://localhost:8080/"
        },
        "outputId": "a75f75b7-d8fe-4726-8a7b-d05850cbd96e"
      },
      "execution_count": null,
      "outputs": [
        {
          "output_type": "stream",
          "name": "stdout",
          "text": [
            "{'primoDizionario': {'nome': 'riccardo', 'cognome': 'lotorto', 'età': 15, 'altezza': 1.75}, 'secondoDizionario': {'batte': 'comodino', 'forte': 'comodino', 'sempre': 'comodino'}}\n"
          ]
        }
      ]
    }
  ]
}