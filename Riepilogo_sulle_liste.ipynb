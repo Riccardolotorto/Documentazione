{
  "nbformat": 4,
  "nbformat_minor": 0,
  "metadata": {
    "colab": {
      "provenance": [],
      "collapsed_sections": [],
      "authorship_tag": "ABX9TyOiZwvG7ApgTwHGKPlL1fd9",
      "include_colab_link": true
    },
    "kernelspec": {
      "name": "python3",
      "display_name": "Python 3"
    },
    "language_info": {
      "name": "python"
    }
  },
  "cells": [
    {
      "cell_type": "markdown",
      "metadata": {
        "id": "view-in-github",
        "colab_type": "text"
      },
      "source": [
        "<a href=\"https://colab.research.google.com/github/Riccardolotorto/Documentazione/blob/main/Riepilogo_sulle_liste.ipynb\" target=\"_parent\"><img src=\"https://colab.research.google.com/assets/colab-badge.svg\" alt=\"Open In Colab\"/></a>"
      ]
    },
    {
      "cell_type": "markdown",
      "source": [
        "questo notebook contiene informazioni fondamentali per lavorare con le liste"
      ],
      "metadata": {
        "id": "jr8PFvgEDBjZ"
      }
    },
    {
      "cell_type": "markdown",
      "source": [
        "definizione di lista:\n",
        "la lista è una struttura dati dinamica utilizzata per memorizzare dati in modo non permanente (salvataggio nella RAM).\n",
        "Dinamica significa che la dimensione della lista non deve essere fissata a priori (prima dell'uso).\n",
        "Non permanente significa che i dati memorizzati nella lista vengono cancellati quando si chiude il notebook.\n",
        "Il file è una struttura dati dinamica permanente."
      ],
      "metadata": {
        "id": "1cNOK4mlDTxx"
      }
    },
    {
      "cell_type": "markdown",
      "source": [
        "1. inizializzazione di una lista"
      ],
      "metadata": {
        "id": "elmQP3CeE1sJ"
      }
    },
    {
      "cell_type": "code",
      "source": [
        "lista = [1, 2, 3, 4, 5, 6, 7, 8, 9]"
      ],
      "metadata": {
        "id": "D4N8CKcBF7jI"
      },
      "execution_count": 12,
      "outputs": []
    },
    {
      "cell_type": "markdown",
      "source": [
        "2. inserimento di elementi"
      ],
      "metadata": {
        "id": "ZEBc24eTE57I"
      }
    },
    {
      "cell_type": "code",
      "source": [
        "lista.append(10)    #aggiunge un elemento alla fine della lista\n",
        "lista.extend([11, 12, 13])   #aggiunge tre elementi alla fine della lista\n",
        "lista.insert(5, 20)   #aggiunge il numero 20 alla posizione 5 "
      ],
      "metadata": {
        "id": "4IvsRDsOGFlY"
      },
      "execution_count": 13,
      "outputs": []
    },
    {
      "cell_type": "markdown",
      "source": [
        "3. visualizzazione di una lista"
      ],
      "metadata": {
        "id": "BwUl26L6E-FQ"
      }
    },
    {
      "cell_type": "code",
      "source": [
        "print(lista)"
      ],
      "metadata": {
        "colab": {
          "base_uri": "https://localhost:8080/"
        },
        "id": "RoQRm3r_HPKg",
        "outputId": "d2920aba-ca1a-4380-cd20-5dd86e6b5b82"
      },
      "execution_count": 14,
      "outputs": [
        {
          "output_type": "stream",
          "name": "stdout",
          "text": [
            "[1, 2, 3, 4, 5, 20, 6, 7, 8, 9, 10, 11, 12, 13]\n"
          ]
        }
      ]
    },
    {
      "cell_type": "markdown",
      "source": [
        "4. rimozione di elementi di una lista"
      ],
      "metadata": {
        "id": "FAgT5hIeFC1X"
      }
    },
    {
      "cell_type": "code",
      "source": [
        "lista.remove(10) #rimuove la prima occorrenza (istanza) del numero 10\n",
        "lista.pop(10) #rimuove l'elemento in posizione 10\n",
        "del lista[10]  #rimuove l'elemento in posizione 10"
      ],
      "metadata": {
        "id": "rxEA_YWuHbq4"
      },
      "execution_count": null,
      "outputs": []
    },
    {
      "cell_type": "markdown",
      "source": [
        "5. aggiunta di un elemento in una lista"
      ],
      "metadata": {
        "id": "SVusS_E_FFtR"
      }
    },
    {
      "cell_type": "code",
      "source": [
        "lista.append(10)    #aggiunge un elemento alla fine della lista\n",
        "lista.extend([11, 12, 13])   #aggiunge tre elementi alla fine della lista\n",
        "lista.insert(5, 20)   #aggiunge il numero 20 alla posizione 5 "
      ],
      "metadata": {
        "id": "STBLAGyiIo0A"
      },
      "execution_count": null,
      "outputs": []
    },
    {
      "cell_type": "markdown",
      "source": [
        "6. visualizzazione di uno o più elementi di una lista "
      ],
      "metadata": {
        "id": "I-hmgcZKFMs_"
      }
    },
    {
      "cell_type": "code",
      "source": [
        "print(lista[4]) #visualizzare il 5 elemento, cioè l'elemento in posizione 4, poichè l'indice della lista inizia da 0\n",
        "print(lista[4:8]) #slicing: visualizza gli elementi dalla posizione 4 alla posizione 7\n",
        "print(lista[4:8:2]) #slicing: visualizza gli elementi dalla posizione 4 alla posizione 7 prendendoli a due a due\n",
        "print(lista[4:]) #slicing: visualizza gli elementi dalla posizione 4 fino alla fine della lista\n",
        "print(lista[:4]) #slicing: visualizza gli elementi dall'inizio della lista fino alla posizione 3\n",
        "print(lista[::3]) #slicing: visualizza tutti i numeri a 3 a 3\n",
        "print(lista[-1]) #visualizza l'ultimo elemento"
      ],
      "metadata": {
        "id": "l-PI_GF-I8KA"
      },
      "execution_count": null,
      "outputs": []
    },
    {
      "cell_type": "markdown",
      "source": [
        "7. trovare il valore minimo e massimo di una lista"
      ],
      "metadata": {
        "id": "YvwzhbV4FUvn"
      }
    },
    {
      "cell_type": "code",
      "source": [
        "min(lista) #trovare il valore minimo di una lista\n",
        "max(lista) #trovare il valore massimo di una lista"
      ],
      "metadata": {
        "id": "4ieOJrubLpBA"
      },
      "execution_count": null,
      "outputs": []
    },
    {
      "cell_type": "markdown",
      "source": [
        "8. effettuare operazioni su elementi di una lista"
      ],
      "metadata": {
        "id": "ppsQhw7iFj5I"
      }
    },
    {
      "cell_type": "code",
      "source": [
        "sum(lista) #calcolare la somma degli elementi di una lista\n",
        "from statistics import mean       #dalla libreria statistica importo il metodo mean\n",
        "mean(lista) #calcolare la media degli elementi di una lista\n",
        "len(lista) #conta il numero di elementi di una lista (la lunghezza di una lista)"
      ],
      "metadata": {
        "id": "DnXG2sl7L6XA"
      },
      "execution_count": null,
      "outputs": []
    },
    {
      "cell_type": "markdown",
      "source": [
        "9. ordinare gli elementi di una lista in modo crescente e decrescente"
      ],
      "metadata": {
        "id": "Eqb_v-2tFoWI"
      }
    },
    {
      "cell_type": "code",
      "source": [
        "lista.sort() #ordina gli elementi di una lista in ordine crescente \n",
        "print(lista)\n",
        "lista.sort(reverse = True) #ordina gli elementi di una lista in ordine decrescente\n",
        "print(lista)"
      ],
      "metadata": {
        "colab": {
          "base_uri": "https://localhost:8080/"
        },
        "id": "Ge3OQ5BOMynA",
        "outputId": "0bc28cef-9905-4819-9de7-e6b646f1b80b"
      },
      "execution_count": 18,
      "outputs": [
        {
          "output_type": "stream",
          "name": "stdout",
          "text": [
            "[1, 2, 3, 4, 5, 6, 7, 8, 9, 10, 11, 12, 13, 20]\n",
            "[20, 13, 12, 11, 10, 9, 8, 7, 6, 5, 4, 3, 2, 1]\n"
          ]
        }
      ]
    },
    {
      "cell_type": "markdown",
      "source": [
        "10. contare il numero di elementi di una lista"
      ],
      "metadata": {
        "id": "2-s4sESsI2GQ"
      }
    },
    {
      "cell_type": "code",
      "source": [
        "len(lista) #conta il numero di elementi di una lista (la lunghezza di una lista)"
      ],
      "metadata": {
        "id": "neu2bbVVNJuJ"
      },
      "execution_count": null,
      "outputs": []
    },
    {
      "cell_type": "markdown",
      "source": [
        "11. controllo della presenza di un elemento nella lista"
      ],
      "metadata": {
        "id": "rx8hjN1oN-sJ"
      }
    },
    {
      "cell_type": "code",
      "source": [
        "9 in lista   #restituisce true se il 9 è presente nella lista, false altrimenti"
      ],
      "metadata": {
        "colab": {
          "base_uri": "https://localhost:8080/"
        },
        "id": "fXj8sXj9OD1w",
        "outputId": "e53f4722-fd1f-40c8-8a56-1b959c79f973"
      },
      "execution_count": 19,
      "outputs": [
        {
          "output_type": "execute_result",
          "data": {
            "text/plain": [
              "True"
            ]
          },
          "metadata": {},
          "execution_count": 19
        }
      ]
    }
  ]
}